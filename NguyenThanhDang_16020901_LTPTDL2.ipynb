{
  "nbformat": 4,
  "nbformat_minor": 0,
  "metadata": {
    "colab": {
      "name": "NguyenThanhDang_16020901_LTPTDL2.ipynb",
      "provenance": [],
      "collapsed_sections": []
    },
    "kernelspec": {
      "name": "python3",
      "display_name": "Python 3"
    }
  },
  "cells": [
    {
      "cell_type": "markdown",
      "metadata": {
        "id": "iXBeBpsp7kmL"
      },
      "source": [
        "Môn học: Lập trình phân tích dữ liệu 2\r\n",
        "Họ và tên: Nguyễn Thành Đăng\r\n",
        "MSSV: 16020901"
      ]
    },
    {
      "cell_type": "code",
      "metadata": {
        "id": "YtO13DfC7Xwc"
      },
      "source": [
        "import numpy as np\r\n",
        "import pandas as pd\r\n",
        "import matplotlib as plt\r\n",
        "import seaborn as sns\r\n",
        "\r\n",
        "df = pd.ExcelFile('KQThiLyThuyet-26.12.2020_ca2.xls')\r\n"
      ],
      "execution_count": 2,
      "outputs": []
    },
    {
      "cell_type": "code",
      "metadata": {
        "id": "dtDZRmIG-Cua"
      },
      "source": [
        "rs = df.parse('Sheet1')"
      ],
      "execution_count": 3,
      "outputs": []
    },
    {
      "cell_type": "code",
      "metadata": {
        "colab": {
          "base_uri": "https://localhost:8080/"
        },
        "id": "1v9ZiiVs-Jk5",
        "outputId": "333d8e2d-385d-4072-93f0-2d3f30b35baa"
      },
      "source": [
        "rs.info()"
      ],
      "execution_count": 4,
      "outputs": [
        {
          "output_type": "stream",
          "text": [
            "<class 'pandas.core.frame.DataFrame'>\n",
            "RangeIndex: 74 entries, 0 to 73\n",
            "Data columns (total 8 columns):\n",
            " #   Column     Non-Null Count  Dtype  \n",
            "---  ------     --------------  -----  \n",
            " 0   STT        64 non-null     float64\n",
            " 1   Mã SV      64 non-null     float64\n",
            " 2   Họ đệm     64 non-null     object \n",
            " 3   Tên        66 non-null     object \n",
            " 4   Giới tính  65 non-null     object \n",
            " 5   Ngày sinh  60 non-null     object \n",
            " 6   Điểm       64 non-null     float64\n",
            " 7   Điểm.1     64 non-null     float64\n",
            "dtypes: float64(4), object(4)\n",
            "memory usage: 4.8+ KB\n"
          ],
          "name": "stdout"
        }
      ]
    },
    {
      "cell_type": "code",
      "metadata": {
        "colab": {
          "base_uri": "https://localhost:8080/",
          "height": 297
        },
        "id": "Pnvr4vRk-Pih",
        "outputId": "eba0dd64-6cfe-47c3-a490-e42e9cbb0839"
      },
      "source": [
        "rs.describe()"
      ],
      "execution_count": 5,
      "outputs": [
        {
          "output_type": "execute_result",
          "data": {
            "text/html": [
              "<div>\n",
              "<style scoped>\n",
              "    .dataframe tbody tr th:only-of-type {\n",
              "        vertical-align: middle;\n",
              "    }\n",
              "\n",
              "    .dataframe tbody tr th {\n",
              "        vertical-align: top;\n",
              "    }\n",
              "\n",
              "    .dataframe thead th {\n",
              "        text-align: right;\n",
              "    }\n",
              "</style>\n",
              "<table border=\"1\" class=\"dataframe\">\n",
              "  <thead>\n",
              "    <tr style=\"text-align: right;\">\n",
              "      <th></th>\n",
              "      <th>STT</th>\n",
              "      <th>Mã SV</th>\n",
              "      <th>Điểm</th>\n",
              "      <th>Điểm.1</th>\n",
              "    </tr>\n",
              "  </thead>\n",
              "  <tbody>\n",
              "    <tr>\n",
              "      <th>count</th>\n",
              "      <td>64.000000</td>\n",
              "      <td>6.400000e+01</td>\n",
              "      <td>64.000000</td>\n",
              "      <td>64.000000</td>\n",
              "    </tr>\n",
              "    <tr>\n",
              "      <th>mean</th>\n",
              "      <td>33.468750</td>\n",
              "      <td>1.881333e+07</td>\n",
              "      <td>5.315625</td>\n",
              "      <td>5.421875</td>\n",
              "    </tr>\n",
              "    <tr>\n",
              "      <th>std</th>\n",
              "      <td>18.672592</td>\n",
              "      <td>1.030669e+07</td>\n",
              "      <td>1.205703</td>\n",
              "      <td>1.225453</td>\n",
              "    </tr>\n",
              "    <tr>\n",
              "      <th>min</th>\n",
              "      <td>1.000000</td>\n",
              "      <td>1.404069e+07</td>\n",
              "      <td>0.000000</td>\n",
              "      <td>0.000000</td>\n",
              "    </tr>\n",
              "    <tr>\n",
              "      <th>25%</th>\n",
              "      <td>17.750000</td>\n",
              "      <td>1.707397e+07</td>\n",
              "      <td>4.725000</td>\n",
              "      <td>4.875000</td>\n",
              "    </tr>\n",
              "    <tr>\n",
              "      <th>50%</th>\n",
              "      <td>33.500000</td>\n",
              "      <td>1.801700e+07</td>\n",
              "      <td>5.400000</td>\n",
              "      <td>5.500000</td>\n",
              "    </tr>\n",
              "    <tr>\n",
              "      <th>75%</th>\n",
              "      <td>49.250000</td>\n",
              "      <td>1.805240e+07</td>\n",
              "      <td>6.300000</td>\n",
              "      <td>6.500000</td>\n",
              "    </tr>\n",
              "    <tr>\n",
              "      <th>max</th>\n",
              "      <td>65.000000</td>\n",
              "      <td>9.966611e+07</td>\n",
              "      <td>7.000000</td>\n",
              "      <td>7.000000</td>\n",
              "    </tr>\n",
              "  </tbody>\n",
              "</table>\n",
              "</div>"
            ],
            "text/plain": [
              "             STT         Mã SV       Điểm     Điểm.1\n",
              "count  64.000000  6.400000e+01  64.000000  64.000000\n",
              "mean   33.468750  1.881333e+07   5.315625   5.421875\n",
              "std    18.672592  1.030669e+07   1.205703   1.225453\n",
              "min     1.000000  1.404069e+07   0.000000   0.000000\n",
              "25%    17.750000  1.707397e+07   4.725000   4.875000\n",
              "50%    33.500000  1.801700e+07   5.400000   5.500000\n",
              "75%    49.250000  1.805240e+07   6.300000   6.500000\n",
              "max    65.000000  9.966611e+07   7.000000   7.000000"
            ]
          },
          "metadata": {
            "tags": []
          },
          "execution_count": 5
        }
      ]
    },
    {
      "cell_type": "code",
      "metadata": {
        "colab": {
          "base_uri": "https://localhost:8080/"
        },
        "id": "yK2IeD3V-W3K",
        "outputId": "0d617bb1-6a95-47a3-f533-88f79eab363e"
      },
      "source": [
        "rs.isnull().sum()"
      ],
      "execution_count": 6,
      "outputs": [
        {
          "output_type": "execute_result",
          "data": {
            "text/plain": [
              "STT          10\n",
              "Mã SV        10\n",
              "Họ đệm       10\n",
              "Tên           8\n",
              "Giới tính     9\n",
              "Ngày sinh    14\n",
              "Điểm         10\n",
              "Điểm.1       10\n",
              "dtype: int64"
            ]
          },
          "metadata": {
            "tags": []
          },
          "execution_count": 6
        }
      ]
    },
    {
      "cell_type": "code",
      "metadata": {
        "colab": {
          "base_uri": "https://localhost:8080/",
          "height": 35
        },
        "id": "kMq-mDRe-cIZ",
        "outputId": "b555deef-44c4-4480-e901-804fc00b6204"
      },
      "source": [
        "rs['Ngày sinh'].value_counts().idxmax()"
      ],
      "execution_count": 8,
      "outputs": [
        {
          "output_type": "execute_result",
          "data": {
            "application/vnd.google.colaboratory.intrinsic+json": {
              "type": "string"
            },
            "text/plain": [
              "'13/03/1999'"
            ]
          },
          "metadata": {
            "tags": []
          },
          "execution_count": 8
        }
      ]
    },
    {
      "cell_type": "code",
      "metadata": {
        "id": "8FzgD3z3-6E6"
      },
      "source": [
        "rs['Ngày sinh'].fillna(rs['Ngày sinh'].value_counts().idxmax(),inplace=True)"
      ],
      "execution_count": 12,
      "outputs": []
    },
    {
      "cell_type": "code",
      "metadata": {
        "colab": {
          "base_uri": "https://localhost:8080/"
        },
        "id": "EwwDUK4T_iYq",
        "outputId": "2dcb6744-d0b8-45fb-966d-2808201141e0"
      },
      "source": [
        "rs.isnull().sum()"
      ],
      "execution_count": 13,
      "outputs": [
        {
          "output_type": "execute_result",
          "data": {
            "text/plain": [
              "STT          10\n",
              "Mã SV        10\n",
              "Họ đệm       10\n",
              "Tên           8\n",
              "Giới tính     9\n",
              "Ngày sinh     0\n",
              "Điểm         10\n",
              "Điểm.1       10\n",
              "dtype: int64"
            ]
          },
          "metadata": {
            "tags": []
          },
          "execution_count": 13
        }
      ]
    },
    {
      "cell_type": "code",
      "metadata": {
        "colab": {
          "base_uri": "https://localhost:8080/",
          "height": 297
        },
        "id": "tUkqGjkm_kkQ",
        "outputId": "e5debdcb-bab8-474b-cc39-c85d58919e8d"
      },
      "source": [
        "rs.describe(include=['float64'])"
      ],
      "execution_count": 15,
      "outputs": [
        {
          "output_type": "execute_result",
          "data": {
            "text/html": [
              "<div>\n",
              "<style scoped>\n",
              "    .dataframe tbody tr th:only-of-type {\n",
              "        vertical-align: middle;\n",
              "    }\n",
              "\n",
              "    .dataframe tbody tr th {\n",
              "        vertical-align: top;\n",
              "    }\n",
              "\n",
              "    .dataframe thead th {\n",
              "        text-align: right;\n",
              "    }\n",
              "</style>\n",
              "<table border=\"1\" class=\"dataframe\">\n",
              "  <thead>\n",
              "    <tr style=\"text-align: right;\">\n",
              "      <th></th>\n",
              "      <th>STT</th>\n",
              "      <th>Mã SV</th>\n",
              "      <th>Điểm</th>\n",
              "      <th>Điểm.1</th>\n",
              "    </tr>\n",
              "  </thead>\n",
              "  <tbody>\n",
              "    <tr>\n",
              "      <th>count</th>\n",
              "      <td>64.000000</td>\n",
              "      <td>6.400000e+01</td>\n",
              "      <td>64.000000</td>\n",
              "      <td>64.000000</td>\n",
              "    </tr>\n",
              "    <tr>\n",
              "      <th>mean</th>\n",
              "      <td>33.468750</td>\n",
              "      <td>1.881333e+07</td>\n",
              "      <td>5.315625</td>\n",
              "      <td>5.421875</td>\n",
              "    </tr>\n",
              "    <tr>\n",
              "      <th>std</th>\n",
              "      <td>18.672592</td>\n",
              "      <td>1.030669e+07</td>\n",
              "      <td>1.205703</td>\n",
              "      <td>1.225453</td>\n",
              "    </tr>\n",
              "    <tr>\n",
              "      <th>min</th>\n",
              "      <td>1.000000</td>\n",
              "      <td>1.404069e+07</td>\n",
              "      <td>0.000000</td>\n",
              "      <td>0.000000</td>\n",
              "    </tr>\n",
              "    <tr>\n",
              "      <th>25%</th>\n",
              "      <td>17.750000</td>\n",
              "      <td>1.707397e+07</td>\n",
              "      <td>4.725000</td>\n",
              "      <td>4.875000</td>\n",
              "    </tr>\n",
              "    <tr>\n",
              "      <th>50%</th>\n",
              "      <td>33.500000</td>\n",
              "      <td>1.801700e+07</td>\n",
              "      <td>5.400000</td>\n",
              "      <td>5.500000</td>\n",
              "    </tr>\n",
              "    <tr>\n",
              "      <th>75%</th>\n",
              "      <td>49.250000</td>\n",
              "      <td>1.805240e+07</td>\n",
              "      <td>6.300000</td>\n",
              "      <td>6.500000</td>\n",
              "    </tr>\n",
              "    <tr>\n",
              "      <th>max</th>\n",
              "      <td>65.000000</td>\n",
              "      <td>9.966611e+07</td>\n",
              "      <td>7.000000</td>\n",
              "      <td>7.000000</td>\n",
              "    </tr>\n",
              "  </tbody>\n",
              "</table>\n",
              "</div>"
            ],
            "text/plain": [
              "             STT         Mã SV       Điểm     Điểm.1\n",
              "count  64.000000  6.400000e+01  64.000000  64.000000\n",
              "mean   33.468750  1.881333e+07   5.315625   5.421875\n",
              "std    18.672592  1.030669e+07   1.205703   1.225453\n",
              "min     1.000000  1.404069e+07   0.000000   0.000000\n",
              "25%    17.750000  1.707397e+07   4.725000   4.875000\n",
              "50%    33.500000  1.801700e+07   5.400000   5.500000\n",
              "75%    49.250000  1.805240e+07   6.300000   6.500000\n",
              "max    65.000000  9.966611e+07   7.000000   7.000000"
            ]
          },
          "metadata": {
            "tags": []
          },
          "execution_count": 15
        }
      ]
    },
    {
      "cell_type": "code",
      "metadata": {
        "id": "dPY7dAdhAT6A"
      },
      "source": [
        "Diem=['Điểm','Điểm.1']\r\n",
        "result=rs[Diem]"
      ],
      "execution_count": 17,
      "outputs": []
    },
    {
      "cell_type": "code",
      "metadata": {
        "colab": {
          "base_uri": "https://localhost:8080/",
          "height": 206
        },
        "id": "zZJ1yk_cASxZ",
        "outputId": "ea0e3920-8550-4315-ce72-0bb3316efb44"
      },
      "source": [
        "result[Diem].hist(bins=15, figsize=(15, 6), layout=(2, 4));"
      ],
      "execution_count": 22,
      "outputs": [
        {
          "output_type": "display_data",
          "data": {
            "image/png": "[encoded data removed]",
            "text/plain": [
              "<Figure size 1080x432 with 8 Axes>"
            ]
          },
          "metadata": {
            "tags": [],
            "needs_background": "light"
          }
        }
      ]
    },
    {
      "cell_type": "markdown",
      "metadata": {
        "id": "EbIYQ_kjFB8f"
      },
      "source": [
        "Ta nhận thấy các cột điểm có số sinh viên đạt được thường tập trung vào khoảng từ 3 đến 7 điểm\r\n",
        "Một số sinh viên bị liệt điểm 0\r\n",
        "Đa các điểm từ 1 đến 3 điểm không có sinh viên, các điểm từ 5 điến 7 điểm có số sinh viên đạt được nhiều nhất"
      ]
    },
    {
      "cell_type": "code",
      "metadata": {
        "colab": {
          "base_uri": "https://localhost:8080/",
          "height": 297
        },
        "id": "eTGAJeVgFnon",
        "outputId": "0cd1a782-5948-472e-b018-53495173e10a"
      },
      "source": [
        "sns.boxplot(x=rs['Giới tính'],y=rs['Điểm'])"
      ],
      "execution_count": 23,
      "outputs": [
        {
          "output_type": "execute_result",
          "data": {
            "text/plain": [
              "<matplotlib.axes._subplots.AxesSubplot at 0x7fd81ab8ebe0>"
            ]
          },
          "metadata": {
            "tags": []
          },
          "execution_count": 23
        },
        {
          "output_type": "display_data",
          "data": {
            "image/png": "[encoded data removed]",
            "text/plain": [
              "<Figure size 432x288 with 1 Axes>"
            ]
          },
          "metadata": {
            "tags": [],
            "needs_background": "light"
          }
        }
      ]
    },
    {
      "cell_type": "markdown",
      "metadata": {
        "id": "vONz2tMiGoHw"
      },
      "source": [
        "Nhận xét: Khi ta đưa vào phân tích các giá trị giữa cột giới tính và cột điểm, ta nhận thấy các sinh viên nữ có điểm nằm tập trung ở khoảng từ 4 điểm đến 6.5 điểm là đa số, điểm cao nhất là 7 điểm và điểm thấp nhất ở khoảng 3.5 điểm, mốt số ít sinh viên nữ có điểm = 0, sinh viên nam có 1 người duy nhất đạt 5.5."
      ]
    }
  ]
}